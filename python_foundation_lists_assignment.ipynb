{
 "cells": [
  {
   "cell_type": "code",
   "execution_count": 35,
   "id": "29815464-b98c-46ea-a986-a818788733ef",
   "metadata": {},
   "outputs": [
    {
     "name": "stdout",
     "output_type": "stream",
     "text": [
      " PRINTING MY EMPTY LIST :  []\n"
     ]
    }
   ],
   "source": [
    "#                                       ANSWER 1 \n",
    "empty_list = [ ] \n",
    "print(\" PRINTING MY EMPTY LIST : \",empty_list)"
   ]
  },
  {
   "cell_type": "code",
   "execution_count": 53,
   "id": "8e138648-f409-48d0-9d2f-feba0c978dbf",
   "metadata": {},
   "outputs": [
    {
     "name": "stdout",
     "output_type": "stream",
     "text": [
      "adding an element to the end of this list by help of append :  [1, 2, 3, 4, 5, 6, ['Siya', (5+2j)]]\n"
     ]
    }
   ],
   "source": [
    "#                                    ANSWER 2\n",
    "List = [ 1,2,3,4,5,6]\n",
    "List.append([\"Siya\",5+2j])\n",
    "print(\"adding an element to the end of this list by help of append : \" , List)"
   ]
  },
  {
   "cell_type": "code",
   "execution_count": 43,
   "id": "bf71a929-8b16-4e1f-806f-9f6a3dd1ee28",
   "metadata": {},
   "outputs": [
    {
     "name": "stdout",
     "output_type": "stream",
     "text": [
      "PRINTING ONLY LAST ELEMENT OF LIST :  ['Siya', (5+2j)]\n"
     ]
    }
   ],
   "source": [
    "#                                    ANSWER 3\n",
    "last_element = List[-1]\n",
    "print(\"PRINTING ONLY LAST ELEMENT OF LIST : \" , last_element ) "
   ]
  },
  {
   "cell_type": "code",
   "execution_count": 47,
   "id": "a6d424b4-e28e-4fc5-99eb-35c904bd75f0",
   "metadata": {},
   "outputs": [
    {
     "name": "stdout",
     "output_type": "stream",
     "text": [
      " reversing the list :  [['Siya', (5+2j)], 6, 5, 4, 3, 2, 1]\n"
     ]
    }
   ],
   "source": [
    "#                                       ANSWER 4 \n",
    "List.reverse()\n",
    "print(\" reversing the list : \" ,List)"
   ]
  },
  {
   "cell_type": "code",
   "execution_count": 48,
   "id": "b32df65f-90d4-46b3-9dcf-c413b1058300",
   "metadata": {},
   "outputs": [
    {
     "name": "stdout",
     "output_type": "stream",
     "text": [
      "Printing the second movie title :  Baahubali 2 \n"
     ]
    }
   ],
   "source": [
    "#                                       ANSWER 6\n",
    "movies = [ \"Pathaan\" , \"Baahubali 2 \" , \"KGF Chapter 2\"]\n",
    "second_movie = movies[1]\n",
    "print(\"Printing the second movie title : \", second_movie)"
   ]
  },
  {
   "cell_type": "code",
   "execution_count": 49,
   "id": "fd19ec51-6717-470f-90fb-86d9ab09730f",
   "metadata": {},
   "outputs": [
    {
     "name": "stdout",
     "output_type": "stream",
     "text": [
      "['Donkey', 'Tiger', 'Panther', 'Leopard', 'Cheetah', 'Elephant', 'Polar', 'bear', 'Turtle', 'Crocodile', 'Rabbit', 'Porcupine', 'Hen']\n"
     ]
    }
   ],
   "source": [
    "#                                     ANSWER 7\n",
    "list_animal = [\"Donkey\",\"Tiger\",\"Panther\",\"Leopard\",\"Cheetah\",\"Elephant\",\"Polar\",\"bear\",\"Turtle\",\"Crocodile\"]\n",
    "new_animal_list = [\"Rabbit\",\"Porcupine\",\"Hen\"]\n",
    "updated_list = list_animal + new_animal_list\n",
    "print(updated_list)"
   ]
  },
  {
   "cell_type": "code",
   "execution_count": 59,
   "id": "5e449cf3-1da2-4238-8cb0-d43d9fd563af",
   "metadata": {},
   "outputs": [
    {
     "name": "stdout",
     "output_type": "stream",
     "text": [
      "SORTING LIST :  ['Cheetah', 'Crocodile', 'Donkey', 'Elephant', 'Hen', 'Leopard', 'Panther', 'Polar', 'Porcupine', 'Rabbit', 'Tiger', 'Turtle', 'bear']\n"
     ]
    }
   ],
   "source": [
    "#                                       ANSWER 5\n",
    "updated_list.sort()\n",
    "print(\"SORTING LIST : \" , updated_list)"
   ]
  },
  {
   "cell_type": "code",
   "execution_count": 52,
   "id": "93ee3c27-fa75-45d0-b262-68fcd19f956f",
   "metadata": {},
   "outputs": [
    {
     "name": "stdout",
     "output_type": "stream",
     "text": [
      " Position of Bangalore :  2\n"
     ]
    }
   ],
   "source": [
    "#                                     ANSWER 8\n",
    "cities = [\"Mumbai\",\"Delhi\",\"Bangalore\",\"Kolkata\",\"Chennai\",\"Ahmedabad\",\"Hyderabad\",\"Pune\"]\n",
    "specific_postion_of_city = cities.index(\"Bangalore\")\n",
    "print(\" Position of Bangalore : \",specific_postion_of_city)"
   ]
  },
  {
   "cell_type": "code",
   "execution_count": null,
   "id": "d7f0b03f-805b-4693-ab34-f77449d0a093",
   "metadata": {},
   "outputs": [],
   "source": []
  }
 ],
 "metadata": {
  "kernelspec": {
   "display_name": "Python 3 (ipykernel)",
   "language": "python",
   "name": "python3"
  },
  "language_info": {
   "codemirror_mode": {
    "name": "ipython",
    "version": 3
   },
   "file_extension": ".py",
   "mimetype": "text/x-python",
   "name": "python",
   "nbconvert_exporter": "python",
   "pygments_lexer": "ipython3",
   "version": "3.10.6"
  }
 },
 "nbformat": 4,
 "nbformat_minor": 5
}
